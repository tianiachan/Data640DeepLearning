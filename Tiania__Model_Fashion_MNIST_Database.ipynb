{
  "nbformat": 4,
  "nbformat_minor": 0,
  "metadata": {
    "colab": {
      "name": "Tiania _Model Fashion MNIST Database.ipynb",
      "provenance": [],
      "collapsed_sections": [],
      "include_colab_link": true
    },
    "kernelspec": {
      "name": "python3",
      "display_name": "Python 3"
    }
  },
  "cells": [
    {
      "cell_type": "markdown",
      "metadata": {
        "id": "view-in-github",
        "colab_type": "text"
      },
      "source": [
        "<a href=\"https://colab.research.google.com/github/tianiachan/Data640DeepLearning/blob/main/Tiania__Model_Fashion_MNIST_Database.ipynb\" target=\"_parent\"><img src=\"https://colab.research.google.com/assets/colab-badge.svg\" alt=\"Open In Colab\"/></a>"
      ]
    },
    {
      "cell_type": "code",
      "metadata": {
        "id": "NmL2Ux_gOlt2"
      },
      "source": [
        "#import libraries for ML models\n",
        "import numpy as np\n",
        "import pandas as pd\n",
        "import os\n",
        "import tarfile\n",
        "import tensorflow.keras \n",
        "from tensorflow.keras.datasets import fashion_mnist #the dataset"
      ],
      "execution_count": 1,
      "outputs": []
    },
    {
      "cell_type": "markdown",
      "metadata": {
        "id": "fCbUDKiaPJNK"
      },
      "source": [
        "<p>Now lets load up the data.</p>"
      ]
    },
    {
      "cell_type": "code",
      "source": [
        "#function to visualize the image in the file\n",
        "def show(image):\n",
        "    \"\"\"\n",
        "    Render a given numpy.uint8 2D array of pixel data.\n",
        "    \"\"\"\n",
        "    from matplotlib import pyplot\n",
        "    import matplotlib as mpl\n",
        "    fig = pyplot.figure()\n",
        "    ax = fig.add_subplot(1,1,1)\n",
        "    imgplot = ax.imshow(image, cmap=mpl.cm.Greys)\n",
        "    imgplot.set_interpolation('nearest')\n",
        "    ax.xaxis.set_ticks_position('top')\n",
        "    ax.yaxis.set_ticks_position('left')\n",
        "    pyplot.show()"
      ],
      "metadata": {
        "id": "Bkxa__Y_6xtT"
      },
      "execution_count": 2,
      "outputs": []
    },
    {
      "cell_type": "code",
      "metadata": {
        "id": "ZjFtMaMoPPEK"
      },
      "source": [
        "#import the data in from fashion mnist\n",
        "(train_x, train_y), (test_x, test_y) = fashion_mnist.load_data()\n",
        "train_y = tensorflow.keras.utils.to_categorical(train_y, 10)\n",
        "test_y = tensorflow.keras.utils.to_categorical(test_y, 10)"
      ],
      "execution_count": 3,
      "outputs": []
    },
    {
      "cell_type": "code",
      "source": [
        "#show first image in training data\n",
        "show(train_x[0])"
      ],
      "metadata": {
        "colab": {
          "base_uri": "https://localhost:8080/",
          "height": 265
        },
        "id": "zdYcNA2w9Sv4",
        "outputId": "b564c232-ac8e-4b63-a444-cc8a21cf1f74"
      },
      "execution_count": 4,
      "outputs": [
        {
          "output_type": "display_data",
          "data": {
            "text/plain": [
              "<Figure size 432x288 with 1 Axes>"
            ],
            "image/png": "[encoded data removed]"
          },
          "metadata": {
            "needs_background": "light"
          }
        }
      ]
    },
    {
      "cell_type": "code",
      "metadata": {
        "id": "d_g8UaTiPXUs",
        "outputId": "94d53d43-f845-4917-bc1e-16db91ed9057",
        "colab": {
          "base_uri": "https://localhost:8080/"
        }
      },
      "source": [
        "#get the shape of the image which is 60000 instances of 28x28 pixel sized images\n",
        "train_x.shape"
      ],
      "execution_count": 5,
      "outputs": [
        {
          "output_type": "execute_result",
          "data": {
            "text/plain": [
              "(60000, 28, 28)"
            ]
          },
          "metadata": {},
          "execution_count": 5
        }
      ]
    },
    {
      "cell_type": "markdown",
      "metadata": {
        "id": "ZI7EkNJlP77k"
      },
      "source": [
        "<p>Now that we've imported the data, we'll need to start importing what we need from Keras to build our network. Below is a basic network. Note that the images are greyscale, so there is no color channel like there is in some of the other datasets.</p>\n",
        "\n",
        "<p>Also, since there's no color channel, we'll use \"1D\" layers not \"2D\" layers as are used when we have channels for colors.</p>"
      ]
    },
    {
      "cell_type": "code",
      "metadata": {
        "id": "yt2qR-eXPcE0"
      },
      "source": [
        "#additional libraries to add to top after understanding this model better\n",
        "from tensorflow.keras.models import Sequential\n",
        "from tensorflow.keras.layers import Conv1D, MaxPooling1D, Dropout, BatchNormalization, Flatten, Dense"
      ],
      "execution_count": 6,
      "outputs": []
    },
    {
      "cell_type": "markdown",
      "metadata": {
        "id": "tfExr5Z7Pdmv"
      },
      "source": [
        "<p>Now it's time for us to start building the network. Build below is a sample network you can play with as a starting point for your assignment. Feel free to expand on this, or start your own from scratch!</p>"
      ]
    },
    {
      "cell_type": "code",
      "metadata": {
        "id": "N5QXWQjlQxiT"
      },
      "source": [
        "#create the sequential model\n",
        "model = Sequential()\n",
        "#first layer\n",
        "#convolutional layer\n",
        "model.add(Conv1D(filters = 236, kernel_size = 2,  input_shape = (28, 28)))\n",
        "#add pooling aka sample size\n",
        "model.add(MaxPooling1D(pool_size = 2))\n",
        "# add drop out % for model training\n",
        "model.add(Dropout(0.2))\n",
        "#normalize values across matrix\n",
        "model.add(BatchNormalization())\n",
        "#second layer\n",
        "model.add(Conv1D(filters = 128, kernel_size = 2))\n",
        "model.add(MaxPooling1D(pool_size = 2))\n",
        "model.add(Dropout(0.2))\n",
        "model.add(BatchNormalization())\n",
        "#flatten out the layers\n",
        "model.add(Flatten())\n",
        "model.add(Dense(units = 10, activation = 'softmax'))"
      ],
      "execution_count": 7,
      "outputs": []
    },
    {
      "cell_type": "code",
      "source": [
        "#model2 - activation relu\n",
        "model2 = Sequential()\n",
        "\n",
        "#first layer\n",
        "model2.add(Conv1D(filters = 236, kernel_size = 2, input_shape = (28,28), activation = 'relu'))\n",
        "model2.add(MaxPooling1D(pool_size = 3))\n",
        "model2.add(Dropout(.3))\n",
        "model2.add(BatchNormalization())\n",
        "\n",
        "#second layer\n",
        "model2.add(Conv1D(filters = 128, kernel_size = 2, input_shape = (28,28), activation = 'relu'))\n",
        "model2.add(MaxPooling1D(pool_size = 3))\n",
        "model2.add(Dropout(.3))\n",
        "model2.add(BatchNormalization())\n",
        "\n",
        "#flatten the layers\n",
        "model2.add(Flatten())\n",
        "model2.add(Dense(units=10, activation = 'softmax'))"
      ],
      "metadata": {
        "id": "pmafuhHDOfVm"
      },
      "execution_count": 8,
      "outputs": []
    },
    {
      "cell_type": "code",
      "source": [
        "#model 3 - three layers\n",
        "model3 = Sequential()\n",
        "\n",
        "#first layer\n",
        "model3.add(Conv1D(filters = 238, kernel_size = 2, input_shape = (28,28)))\n",
        "model3.add(MaxPooling1D(pool_size = 2))\n",
        "model3.add(Dropout(.2))\n",
        "model3.add(BatchNormalization())\n",
        "\n",
        "#second layer\n",
        "model3.add(Conv1D(filters = 128, kernel_size = 2, input_shape = (28,28)))\n",
        "model3.add(MaxPooling1D(pool_size = 2))\n",
        "model3.add(Dropout(.2))\n",
        "model3.add(BatchNormalization())\n",
        "\n",
        "#third layer\n",
        "model3.add(Conv1D(filters = 64, kernel_size = 2, input_shape = (28,28)))\n",
        "model3.add(MaxPooling1D(pool_size = 2))\n",
        "model3.add(Dropout(.2))\n",
        "model3.add(BatchNormalization())\n",
        "\n",
        "#flatten the layers\n",
        "model3.add(Flatten())\n",
        "model3.add(Dense(units=10, activation = 'softmax'))"
      ],
      "metadata": {
        "id": "gmHhXM7cTIOK"
      },
      "execution_count": 9,
      "outputs": []
    },
    {
      "cell_type": "code",
      "metadata": {
        "id": "7-v7wv-CPhu9"
      },
      "source": [
        "#compile the model together with all the layers defining the loss, optimizer method and metric to judge model on\n",
        "model.compile(loss = 'categorical_crossentropy', \n",
        "              optimizer = tensorflow.keras.optimizers.Adadelta(), \n",
        "              metrics = ['accuracy'])\n",
        "\n",
        "# compile model2\n",
        "model2.compile(loss = 'categorical_crossentropy', \n",
        "              optimizer = tensorflow.keras.optimizers.Adadelta(), \n",
        "              metrics = ['accuracy'])\n",
        "\n",
        "#compile model3\n",
        "model3.compile(loss = 'categorical_crossentropy', \n",
        "              optimizer = tensorflow.keras.optimizers.Adadelta(), \n",
        "              metrics = ['accuracy'])"
      ],
      "execution_count": 10,
      "outputs": []
    },
    {
      "cell_type": "code",
      "source": [
        "# # compile model2\n",
        "# model2.compile(loss = 'categorical_crossentropy', \n",
        "#               optimizer = tensorflow.keras.optimizers.Adadelta(), \n",
        "#               metrics = ['accuracy'])"
      ],
      "metadata": {
        "id": "F_FKsIAglcLl"
      },
      "execution_count": 11,
      "outputs": []
    },
    {
      "cell_type": "code",
      "source": [
        "# #compile model3\n",
        "# model3.compile(loss = 'categorical_crossentropy', \n",
        "#               optimizer = tensorflow.keras.optimizers.Adadelta(), \n",
        "#               metrics = ['accuracy'])"
      ],
      "metadata": {
        "id": "cShTwkfTlfol"
      },
      "execution_count": 12,
      "outputs": []
    },
    {
      "cell_type": "code",
      "metadata": {
        "id": "QR4-mhC2Rq9N",
        "outputId": "e9894351-78a7-4ed7-9c61-ec24e41743c5",
        "colab": {
          "base_uri": "https://localhost:8080/"
        }
      },
      "source": [
        "# run the model on test and training data, determine number of epoch/iterations, batch size aka how many samples before next iteration\n",
        "model.fit(train_x, train_y, epochs = 10, batch_size = 128)"
      ],
      "execution_count": 13,
      "outputs": [
        {
          "output_type": "stream",
          "name": "stdout",
          "text": [
            "Epoch 1/10\n",
            "469/469 [==============================] - 23s 47ms/step - loss: 2.8002 - accuracy: 0.1384\n",
            "Epoch 2/10\n",
            "469/469 [==============================] - 22s 48ms/step - loss: 2.2268 - accuracy: 0.2639\n",
            "Epoch 3/10\n",
            "469/469 [==============================] - 22s 47ms/step - loss: 1.8597 - accuracy: 0.3649\n",
            "Epoch 4/10\n",
            "469/469 [==============================] - 21s 46ms/step - loss: 1.6084 - accuracy: 0.4428\n",
            "Epoch 5/10\n",
            "469/469 [==============================] - 23s 49ms/step - loss: 1.4434 - accuracy: 0.4951\n",
            "Epoch 6/10\n",
            "469/469 [==============================] - 22s 47ms/step - loss: 1.3294 - accuracy: 0.5342\n",
            "Epoch 7/10\n",
            "469/469 [==============================] - 22s 46ms/step - loss: 1.2415 - accuracy: 0.5634\n",
            "Epoch 8/10\n",
            "469/469 [==============================] - 22s 48ms/step - loss: 1.1714 - accuracy: 0.5885\n",
            "Epoch 9/10\n",
            "469/469 [==============================] - 22s 47ms/step - loss: 1.1192 - accuracy: 0.6073\n",
            "Epoch 10/10\n",
            "469/469 [==============================] - 22s 47ms/step - loss: 1.0681 - accuracy: 0.6263\n"
          ]
        },
        {
          "output_type": "execute_result",
          "data": {
            "text/plain": [
              "<keras.callbacks.History at 0x7ffaa074dfd0>"
            ]
          },
          "metadata": {},
          "execution_count": 13
        }
      ]
    },
    {
      "cell_type": "code",
      "source": [
        "#print out the loss and accuracy of the model\n",
        "score1 = model.evaluate(test_x, test_y)\n",
        "print('\\nloss is: ' + str(score1[0]))\n",
        "print('accuracy is: ' + str(score1[1]))"
      ],
      "metadata": {
        "colab": {
          "base_uri": "https://localhost:8080/"
        },
        "id": "0fV_DjaJ9uT-",
        "outputId": "3728d564-b619-4c0f-d3fb-61f84846509a"
      },
      "execution_count": 14,
      "outputs": [
        {
          "output_type": "stream",
          "name": "stdout",
          "text": [
            "313/313 [==============================] - 2s 5ms/step - loss: 0.8993 - accuracy: 0.6922\n",
            "\n",
            "loss is: 0.8993300795555115\n",
            "accuracy is: 0.6922000050544739\n"
          ]
        }
      ]
    },
    {
      "cell_type": "code",
      "source": [
        "model2.fit(train_x, train_y, epochs = 10, batch_size = 128)"
      ],
      "metadata": {
        "colab": {
          "base_uri": "https://localhost:8080/"
        },
        "id": "kUirhVdEjse3",
        "outputId": "db5983fa-e3b2-490f-ebd4-845bf8a42dcc"
      },
      "execution_count": 15,
      "outputs": [
        {
          "output_type": "stream",
          "name": "stdout",
          "text": [
            "Epoch 1/10\n",
            "469/469 [==============================] - 19s 38ms/step - loss: 2.9989 - accuracy: 0.1147\n",
            "Epoch 2/10\n",
            "469/469 [==============================] - 18s 38ms/step - loss: 2.6757 - accuracy: 0.1647\n",
            "Epoch 3/10\n",
            "469/469 [==============================] - 18s 38ms/step - loss: 2.4178 - accuracy: 0.2145\n",
            "Epoch 4/10\n",
            "469/469 [==============================] - 19s 40ms/step - loss: 2.2113 - accuracy: 0.2699\n",
            "Epoch 5/10\n",
            "469/469 [==============================] - 18s 38ms/step - loss: 2.0325 - accuracy: 0.3193\n",
            "Epoch 6/10\n",
            "469/469 [==============================] - 18s 38ms/step - loss: 1.9034 - accuracy: 0.3586\n",
            "Epoch 7/10\n",
            "469/469 [==============================] - 18s 38ms/step - loss: 1.7877 - accuracy: 0.3949\n",
            "Epoch 8/10\n",
            "469/469 [==============================] - 18s 38ms/step - loss: 1.6982 - accuracy: 0.4199\n",
            "Epoch 9/10\n",
            "469/469 [==============================] - 18s 39ms/step - loss: 1.6100 - accuracy: 0.4483\n",
            "Epoch 10/10\n",
            "469/469 [==============================] - 18s 38ms/step - loss: 1.5447 - accuracy: 0.4707\n"
          ]
        },
        {
          "output_type": "execute_result",
          "data": {
            "text/plain": [
              "<keras.callbacks.History at 0x7ffa9edba450>"
            ]
          },
          "metadata": {},
          "execution_count": 15
        }
      ]
    },
    {
      "cell_type": "code",
      "source": [
        "#print out the loss and accuracy of the model\n",
        "score2 = model2.evaluate(test_x, test_y)\n",
        "print('\\nloss is: ' + str(score2[0]))\n",
        "print('accuracy is: ' + str(score2[1]))"
      ],
      "metadata": {
        "colab": {
          "base_uri": "https://localhost:8080/"
        },
        "id": "7yl6LdUj-3i5",
        "outputId": "4f997db3-39ad-40af-b57c-db0186074b77"
      },
      "execution_count": 16,
      "outputs": [
        {
          "output_type": "stream",
          "name": "stdout",
          "text": [
            "313/313 [==============================] - 2s 4ms/step - loss: 1.2750 - accuracy: 0.5979\n",
            "\n",
            "loss is: 1.2749849557876587\n",
            "accuracy is: 0.5978999733924866\n"
          ]
        }
      ]
    },
    {
      "cell_type": "code",
      "source": [
        "#try with more epochs\n",
        "model2.fit(train_x, train_y, epochs = 15, batch_size = 128)"
      ],
      "metadata": {
        "colab": {
          "base_uri": "https://localhost:8080/"
        },
        "id": "bwE6RjRjCkoM",
        "outputId": "d6506c36-d7a5-409f-c852-805d1d57afb3"
      },
      "execution_count": 17,
      "outputs": [
        {
          "output_type": "stream",
          "name": "stdout",
          "text": [
            "Epoch 1/15\n",
            "469/469 [==============================] - 18s 38ms/step - loss: 1.4775 - accuracy: 0.4927\n",
            "Epoch 2/15\n",
            "469/469 [==============================] - 17s 37ms/step - loss: 1.4260 - accuracy: 0.5082\n",
            "Epoch 3/15\n",
            "469/469 [==============================] - 18s 38ms/step - loss: 1.3788 - accuracy: 0.5247\n",
            "Epoch 4/15\n",
            "469/469 [==============================] - 19s 40ms/step - loss: 1.3364 - accuracy: 0.5380\n",
            "Epoch 5/15\n",
            "469/469 [==============================] - 18s 38ms/step - loss: 1.3012 - accuracy: 0.5496\n",
            "Epoch 6/15\n",
            "469/469 [==============================] - 18s 38ms/step - loss: 1.2616 - accuracy: 0.5641\n",
            "Epoch 7/15\n",
            "469/469 [==============================] - 18s 38ms/step - loss: 1.2352 - accuracy: 0.5731\n",
            "Epoch 8/15\n",
            "469/469 [==============================] - 17s 37ms/step - loss: 1.2023 - accuracy: 0.5827\n",
            "Epoch 9/15\n",
            "469/469 [==============================] - 17s 37ms/step - loss: 1.1798 - accuracy: 0.5917\n",
            "Epoch 10/15\n",
            "469/469 [==============================] - 17s 36ms/step - loss: 1.1577 - accuracy: 0.5994\n",
            "Epoch 11/15\n",
            "469/469 [==============================] - 18s 38ms/step - loss: 1.1336 - accuracy: 0.6066\n",
            "Epoch 12/15\n",
            "469/469 [==============================] - 18s 38ms/step - loss: 1.1115 - accuracy: 0.6154\n",
            "Epoch 13/15\n",
            "469/469 [==============================] - 18s 37ms/step - loss: 1.0997 - accuracy: 0.6179\n",
            "Epoch 14/15\n",
            "469/469 [==============================] - 18s 39ms/step - loss: 1.0852 - accuracy: 0.6240\n",
            "Epoch 15/15\n",
            "469/469 [==============================] - 17s 37ms/step - loss: 1.0698 - accuracy: 0.6286\n"
          ]
        },
        {
          "output_type": "execute_result",
          "data": {
            "text/plain": [
              "<keras.callbacks.History at 0x7ffaa05a63d0>"
            ]
          },
          "metadata": {},
          "execution_count": 17
        }
      ]
    },
    {
      "cell_type": "code",
      "source": [
        "#try with more epochs\n",
        "score5 = model2.evaluate(test_x, test_y)\n",
        "print('\\nloss is: ' + str(score5[0]))\n",
        "print('accuracy is: ' + str(score5[1]))"
      ],
      "metadata": {
        "colab": {
          "base_uri": "https://localhost:8080/"
        },
        "id": "aoWqYfUaCcra",
        "outputId": "fa26a1ae-ae77-429a-9f0f-217ad877b002"
      },
      "execution_count": 18,
      "outputs": [
        {
          "output_type": "stream",
          "name": "stdout",
          "text": [
            "313/313 [==============================] - 1s 4ms/step - loss: 0.8934 - accuracy: 0.6870\n",
            "\n",
            "loss is: 0.8934330940246582\n",
            "accuracy is: 0.6869999766349792\n"
          ]
        }
      ]
    },
    {
      "cell_type": "code",
      "source": [
        "model3.fit(train_x, train_y, epochs = 10, batch_size = 128)"
      ],
      "metadata": {
        "colab": {
          "base_uri": "https://localhost:8080/"
        },
        "id": "SBls0xm7jsNI",
        "outputId": "1bcf1f52-552a-4fd8-c862-0eecae90cfb3"
      },
      "execution_count": 19,
      "outputs": [
        {
          "output_type": "stream",
          "name": "stdout",
          "text": [
            "Epoch 1/10\n",
            "469/469 [==============================] - 27s 54ms/step - loss: 2.6033 - accuracy: 0.1748\n",
            "Epoch 2/10\n",
            "469/469 [==============================] - 25s 53ms/step - loss: 2.1418 - accuracy: 0.2738\n",
            "Epoch 3/10\n",
            "469/469 [==============================] - 25s 53ms/step - loss: 1.8523 - accuracy: 0.3515\n",
            "Epoch 4/10\n",
            "469/469 [==============================] - 26s 55ms/step - loss: 1.6534 - accuracy: 0.4158\n",
            "Epoch 5/10\n",
            "469/469 [==============================] - 25s 52ms/step - loss: 1.5239 - accuracy: 0.4587\n",
            "Epoch 6/10\n",
            "469/469 [==============================] - 25s 53ms/step - loss: 1.4270 - accuracy: 0.4902\n",
            "Epoch 7/10\n",
            "469/469 [==============================] - 25s 54ms/step - loss: 1.3518 - accuracy: 0.5181\n",
            "Epoch 8/10\n",
            "469/469 [==============================] - 25s 54ms/step - loss: 1.2835 - accuracy: 0.5456\n",
            "Epoch 9/10\n",
            "469/469 [==============================] - 27s 57ms/step - loss: 1.2419 - accuracy: 0.5629\n",
            "Epoch 10/10\n",
            "469/469 [==============================] - 25s 54ms/step - loss: 1.2015 - accuracy: 0.5770\n"
          ]
        },
        {
          "output_type": "execute_result",
          "data": {
            "text/plain": [
              "<keras.callbacks.History at 0x7ffaa0225650>"
            ]
          },
          "metadata": {},
          "execution_count": 19
        }
      ]
    },
    {
      "cell_type": "code",
      "source": [
        "#print out the loss and accuracy of the model\n",
        "score3 = model3.evaluate(test_x, test_y)\n",
        "print('\\nloss is: ' + str(score3[0]))\n",
        "print('accuracy is: ' + str(score3[1]))"
      ],
      "metadata": {
        "colab": {
          "base_uri": "https://localhost:8080/"
        },
        "id": "aXOibJK1_jmR",
        "outputId": "86de74e8-8e04-4dcb-ddef-1a0f15863d03"
      },
      "execution_count": 20,
      "outputs": [
        {
          "output_type": "stream",
          "name": "stdout",
          "text": [
            "313/313 [==============================] - 2s 5ms/step - loss: 0.9705 - accuracy: 0.6882\n",
            "\n",
            "loss is: 0.9705042243003845\n",
            "accuracy is: 0.6881999969482422\n"
          ]
        }
      ]
    },
    {
      "cell_type": "code",
      "source": [
        "#try again with more epochs\n",
        "model3.fit(train_x, train_y, epochs = 15, batch_size = 128)"
      ],
      "metadata": {
        "colab": {
          "base_uri": "https://localhost:8080/"
        },
        "id": "LaRTt5JECyrO",
        "outputId": "7b34a240-850b-4f74-c6a7-529479f44cf6"
      },
      "execution_count": 21,
      "outputs": [
        {
          "output_type": "stream",
          "name": "stdout",
          "text": [
            "Epoch 1/15\n",
            "469/469 [==============================] - 25s 53ms/step - loss: 1.1650 - accuracy: 0.5915\n",
            "Epoch 2/15\n",
            "469/469 [==============================] - 26s 55ms/step - loss: 1.1315 - accuracy: 0.6037\n",
            "Epoch 3/15\n",
            "469/469 [==============================] - 26s 55ms/step - loss: 1.1086 - accuracy: 0.6133\n",
            "Epoch 4/15\n",
            "469/469 [==============================] - 24s 51ms/step - loss: 1.0852 - accuracy: 0.6214\n",
            "Epoch 5/15\n",
            "469/469 [==============================] - 25s 53ms/step - loss: 1.0649 - accuracy: 0.6303\n",
            "Epoch 6/15\n",
            "469/469 [==============================] - 24s 52ms/step - loss: 1.0450 - accuracy: 0.6373\n",
            "Epoch 7/15\n",
            "469/469 [==============================] - 25s 53ms/step - loss: 1.0276 - accuracy: 0.6417\n",
            "Epoch 8/15\n",
            "469/469 [==============================] - 26s 56ms/step - loss: 1.0088 - accuracy: 0.6492\n",
            "Epoch 9/15\n",
            "469/469 [==============================] - 25s 53ms/step - loss: 0.9969 - accuracy: 0.6538\n",
            "Epoch 10/15\n",
            "469/469 [==============================] - 25s 53ms/step - loss: 0.9822 - accuracy: 0.6585\n",
            "Epoch 11/15\n",
            "469/469 [==============================] - 25s 54ms/step - loss: 0.9676 - accuracy: 0.6649\n",
            "Epoch 12/15\n",
            "469/469 [==============================] - 26s 54ms/step - loss: 0.9597 - accuracy: 0.6665\n",
            "Epoch 13/15\n",
            "469/469 [==============================] - 26s 55ms/step - loss: 0.9493 - accuracy: 0.6712\n",
            "Epoch 14/15\n",
            "469/469 [==============================] - 25s 54ms/step - loss: 0.9381 - accuracy: 0.6741\n",
            "Epoch 15/15\n",
            "469/469 [==============================] - 25s 54ms/step - loss: 0.9272 - accuracy: 0.6769\n"
          ]
        },
        {
          "output_type": "execute_result",
          "data": {
            "text/plain": [
              "<keras.callbacks.History at 0x7ffaa0289890>"
            ]
          },
          "metadata": {},
          "execution_count": 21
        }
      ]
    },
    {
      "cell_type": "code",
      "source": [
        "#print out the loss and accuracy of the model\n",
        "score6 = model3.evaluate(test_x, test_y)\n",
        "print('\\nloss is: ' + str(score6[0]))\n",
        "print('accuracy is: ' + str(score6[1]))"
      ],
      "metadata": {
        "colab": {
          "base_uri": "https://localhost:8080/"
        },
        "id": "2wDSJxEIC4tY",
        "outputId": "f09e214b-1e03-468c-b0e3-4f140c70d435"
      },
      "execution_count": 22,
      "outputs": [
        {
          "output_type": "stream",
          "name": "stdout",
          "text": [
            "313/313 [==============================] - 2s 6ms/step - loss: 0.7808 - accuracy: 0.7392\n",
            "\n",
            "loss is: 0.7808361053466797\n",
            "accuracy is: 0.7391999959945679\n"
          ]
        }
      ]
    },
    {
      "cell_type": "code",
      "source": [
        "#try model 1 but with more epochs\n",
        "model.fit(train_x, train_y, epochs = 15, batch_size = 128)"
      ],
      "metadata": {
        "colab": {
          "base_uri": "https://localhost:8080/"
        },
        "id": "blaJL0Iqjr4-",
        "outputId": "ad3e0e7d-e7fb-4f7a-e3ce-00e26e011b06"
      },
      "execution_count": 23,
      "outputs": [
        {
          "output_type": "stream",
          "name": "stdout",
          "text": [
            "Epoch 1/15\n",
            "469/469 [==============================] - 22s 46ms/step - loss: 1.0345 - accuracy: 0.6387\n",
            "Epoch 2/15\n",
            "469/469 [==============================] - 23s 48ms/step - loss: 1.0076 - accuracy: 0.6504\n",
            "Epoch 3/15\n",
            "469/469 [==============================] - 22s 47ms/step - loss: 0.9769 - accuracy: 0.6603\n",
            "Epoch 4/15\n",
            "469/469 [==============================] - 22s 47ms/step - loss: 0.9510 - accuracy: 0.6685\n",
            "Epoch 5/15\n",
            "469/469 [==============================] - 22s 46ms/step - loss: 0.9324 - accuracy: 0.6770\n",
            "Epoch 6/15\n",
            "469/469 [==============================] - 22s 47ms/step - loss: 0.9090 - accuracy: 0.6867\n",
            "Epoch 7/15\n",
            "469/469 [==============================] - 23s 48ms/step - loss: 0.8932 - accuracy: 0.6902\n",
            "Epoch 8/15\n",
            "469/469 [==============================] - 23s 50ms/step - loss: 0.8796 - accuracy: 0.6953\n",
            "Epoch 9/15\n",
            "469/469 [==============================] - 21s 45ms/step - loss: 0.8615 - accuracy: 0.7013\n",
            "Epoch 10/15\n",
            "469/469 [==============================] - 21s 45ms/step - loss: 0.8529 - accuracy: 0.7038\n",
            "Epoch 11/15\n",
            "469/469 [==============================] - 22s 47ms/step - loss: 0.8376 - accuracy: 0.7111\n",
            "Epoch 12/15\n",
            "469/469 [==============================] - 22s 47ms/step - loss: 0.8251 - accuracy: 0.7152\n",
            "Epoch 13/15\n",
            "469/469 [==============================] - 23s 49ms/step - loss: 0.8167 - accuracy: 0.7174\n",
            "Epoch 14/15\n",
            "469/469 [==============================] - 22s 48ms/step - loss: 0.8099 - accuracy: 0.7198\n",
            "Epoch 15/15\n",
            "469/469 [==============================] - 22s 46ms/step - loss: 0.8014 - accuracy: 0.7205\n"
          ]
        },
        {
          "output_type": "execute_result",
          "data": {
            "text/plain": [
              "<keras.callbacks.History at 0x7ffaa003b710>"
            ]
          },
          "metadata": {},
          "execution_count": 23
        }
      ]
    },
    {
      "cell_type": "code",
      "source": [
        "#print out the loss and accuracy of the model\n",
        "score4 = model.evaluate(test_x, test_y)\n",
        "print('\\nloss is: ' + str(score4[0]))\n",
        "print('accuracy is: ' + str(score4[1]))"
      ],
      "metadata": {
        "colab": {
          "base_uri": "https://localhost:8080/"
        },
        "id": "Ol8luc61_m4z",
        "outputId": "2c034a91-6dd7-448e-eba0-2fa5b0cea2de"
      },
      "execution_count": 24,
      "outputs": [
        {
          "output_type": "stream",
          "name": "stdout",
          "text": [
            "313/313 [==============================] - 1s 5ms/step - loss: 0.6971 - accuracy: 0.7591\n",
            "\n",
            "loss is: 0.6970868706703186\n",
            "accuracy is: 0.7591000199317932\n"
          ]
        }
      ]
    },
    {
      "cell_type": "code",
      "metadata": {
        "id": "VnWEYUaFbwzE",
        "colab": {
          "base_uri": "https://localhost:8080/"
        },
        "outputId": "19316f61-4cc0-41f8-8f59-8701e4ad802c"
      },
      "source": [
        "print(\"Model 1 @ 10 epochs:\") \n",
        "print(\"Loss: \",score1[0],\"Accuracy: \",score1[0])\n",
        "print(\"Model 2 @ 10 epochs:\") \n",
        "print(\"Loss: \",score2[0],\"Accuracy: \",score2[0])\n",
        "print(\"Model 3 @ 10 epochs:\") \n",
        "print(\"Loss: \",score3[0],\"Accuracy: \",score3[0])\n",
        "print(\"Model 1 @ 15 epochs:\") \n",
        "print(\"Loss: \",score4[0],\"Accuracy: \",score4[0])\n",
        "print(\"Model 2 @ 15 epochs:\") \n",
        "print(\"Loss: \",score5[0],\"Accuracy: \",score5[0])\n",
        "print(\"Model 3 @ 15 epochs:\") \n",
        "print(\"Loss: \",score6[0],\"Accuracy: \",score6[0])"
      ],
      "execution_count": 31,
      "outputs": [
        {
          "output_type": "stream",
          "name": "stdout",
          "text": [
            "Model 1 @ 10 epochs:\n",
            "Loss:  0.8993300795555115 Accuracy:  0.8993300795555115\n",
            "Model 2 @ 10 epochs:\n",
            "Loss:  1.2749849557876587 Accuracy:  1.2749849557876587\n",
            "Model 3 @ 10 epochs:\n",
            "Loss:  0.9705042243003845 Accuracy:  0.9705042243003845\n",
            "Model 1 @ 15 epochs:\n",
            "Loss:  0.6970868706703186 Accuracy:  0.6970868706703186\n",
            "Model 2 @ 15 epochs:\n",
            "Loss:  0.8934330940246582 Accuracy:  0.8934330940246582\n",
            "Model 3 @ 15 epochs:\n",
            "Loss:  0.7808361053466797 Accuracy:  0.7808361053466797\n"
          ]
        }
      ]
    },
    {
      "cell_type": "code",
      "source": [
        "#display results as a dataframe?\n",
        "Models"
      ],
      "metadata": {
        "id": "QsGW1YOYOJf-"
      },
      "execution_count": 32,
      "outputs": []
    },
    {
      "cell_type": "code",
      "source": [
        "df"
      ],
      "metadata": {
        "colab": {
          "base_uri": "https://localhost:8080/",
          "height": 107
        },
        "id": "v0w2gnWIOYyQ",
        "outputId": "7a1eab4e-2004-45a8-fefd-cabdf9c97d97"
      },
      "execution_count": 33,
      "outputs": [
        {
          "output_type": "execute_result",
          "data": {
            "text/plain": [
              "Empty DataFrame\n",
              "Columns: []\n",
              "Index: []"
            ],
            "text/html": [
              "\n",
              "  <div id=\"df-59b69d5a-a720-4b91-8522-d7f7f1e1161a\">\n",
              "    <div class=\"colab-df-container\">\n",
              "      <div>\n",
              "<style scoped>\n",
              "    .dataframe tbody tr th:only-of-type {\n",
              "        vertical-align: middle;\n",
              "    }\n",
              "\n",
              "    .dataframe tbody tr th {\n",
              "        vertical-align: top;\n",
              "    }\n",
              "\n",
              "    .dataframe thead th {\n",
              "        text-align: right;\n",
              "    }\n",
              "</style>\n",
              "<table border=\"1\" class=\"dataframe\">\n",
              "  <thead>\n",
              "    <tr style=\"text-align: right;\">\n",
              "      <th></th>\n",
              "    </tr>\n",
              "  </thead>\n",
              "  <tbody>\n",
              "  </tbody>\n",
              "</table>\n",
              "</div>\n",
              "      <button class=\"colab-df-convert\" onclick=\"convertToInteractive('df-59b69d5a-a720-4b91-8522-d7f7f1e1161a')\"\n",
              "              title=\"Convert this dataframe to an interactive table.\"\n",
              "              style=\"display:none;\">\n",
              "        \n",
              "  <svg xmlns=\"http://www.w3.org/2000/svg\" height=\"24px\"viewBox=\"0 0 24 24\"\n",
              "       width=\"24px\">\n",
              "    <path d=\"M0 0h24v24H0V0z\" fill=\"none\"/>\n",
              "    <path d=\"M18.56 5.44l.94 2.06.94-2.06 2.06-.94-2.06-.94-.94-2.06-.94 2.06-2.06.94zm-11 1L8.5 8.5l.94-2.06 2.06-.94-2.06-.94L8.5 2.5l-.94 2.06-2.06.94zm10 10l.94 2.06.94-2.06 2.06-.94-2.06-.94-.94-2.06-.94 2.06-2.06.94z\"/><path d=\"M17.41 7.96l-1.37-1.37c-.4-.4-.92-.59-1.43-.59-.52 0-1.04.2-1.43.59L10.3 9.45l-7.72 7.72c-.78.78-.78 2.05 0 2.83L4 21.41c.39.39.9.59 1.41.59.51 0 1.02-.2 1.41-.59l7.78-7.78 2.81-2.81c.8-.78.8-2.07 0-2.86zM5.41 20L4 18.59l7.72-7.72 1.47 1.35L5.41 20z\"/>\n",
              "  </svg>\n",
              "      </button>\n",
              "      \n",
              "  <style>\n",
              "    .colab-df-container {\n",
              "      display:flex;\n",
              "      flex-wrap:wrap;\n",
              "      gap: 12px;\n",
              "    }\n",
              "\n",
              "    .colab-df-convert {\n",
              "      background-color: #E8F0FE;\n",
              "      border: none;\n",
              "      border-radius: 50%;\n",
              "      cursor: pointer;\n",
              "      display: none;\n",
              "      fill: #1967D2;\n",
              "      height: 32px;\n",
              "      padding: 0 0 0 0;\n",
              "      width: 32px;\n",
              "    }\n",
              "\n",
              "    .colab-df-convert:hover {\n",
              "      background-color: #E2EBFA;\n",
              "      box-shadow: 0px 1px 2px rgba(60, 64, 67, 0.3), 0px 1px 3px 1px rgba(60, 64, 67, 0.15);\n",
              "      fill: #174EA6;\n",
              "    }\n",
              "\n",
              "    [theme=dark] .colab-df-convert {\n",
              "      background-color: #3B4455;\n",
              "      fill: #D2E3FC;\n",
              "    }\n",
              "\n",
              "    [theme=dark] .colab-df-convert:hover {\n",
              "      background-color: #434B5C;\n",
              "      box-shadow: 0px 1px 3px 1px rgba(0, 0, 0, 0.15);\n",
              "      filter: drop-shadow(0px 1px 2px rgba(0, 0, 0, 0.3));\n",
              "      fill: #FFFFFF;\n",
              "    }\n",
              "  </style>\n",
              "\n",
              "      <script>\n",
              "        const buttonEl =\n",
              "          document.querySelector('#df-59b69d5a-a720-4b91-8522-d7f7f1e1161a button.colab-df-convert');\n",
              "        buttonEl.style.display =\n",
              "          google.colab.kernel.accessAllowed ? 'block' : 'none';\n",
              "\n",
              "        async function convertToInteractive(key) {\n",
              "          const element = document.querySelector('#df-59b69d5a-a720-4b91-8522-d7f7f1e1161a');\n",
              "          const dataTable =\n",
              "            await google.colab.kernel.invokeFunction('convertToInteractive',\n",
              "                                                     [key], {});\n",
              "          if (!dataTable) return;\n",
              "\n",
              "          const docLinkHtml = 'Like what you see? Visit the ' +\n",
              "            '<a target=\"_blank\" href=https://colab.research.google.com/notebooks/data_table.ipynb>data table notebook</a>'\n",
              "            + ' to learn more about interactive tables.';\n",
              "          element.innerHTML = '';\n",
              "          dataTable['output_type'] = 'display_data';\n",
              "          await google.colab.output.renderOutput(dataTable, element);\n",
              "          const docLink = document.createElement('div');\n",
              "          docLink.innerHTML = docLinkHtml;\n",
              "          element.appendChild(docLink);\n",
              "        }\n",
              "      </script>\n",
              "    </div>\n",
              "  </div>\n",
              "  "
            ]
          },
          "metadata": {},
          "execution_count": 33
        }
      ]
    },
    {
      "cell_type": "code",
      "source": [
        ""
      ],
      "metadata": {
        "id": "enl7NPfxOZQA"
      },
      "execution_count": null,
      "outputs": []
    }
  ]
}